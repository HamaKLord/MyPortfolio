{
 "cells": [
  {
   "cell_type": "code",
   "execution_count": null,
   "metadata": {},
   "outputs": [],
   "source": [
    "import pandas as pd\n",
    "import string\n",
    "from nltk.corpus import stopwords\n",
    "import nltk\n",
    "\n",
    "nltk.download('stopwords')\n",
    "stop_words = set(stopwords.words('english'))\n",
    "\n",
    "# Load raw datasets\n",
    "data1 = pd.read_csv('./data/raw/emotion_sentimen_dataset.csv')\n",
    "data2 = pd.read_csv('./data/raw/test.csv')\n",
    "\n",
    "# Combine datasets\n",
    "data = pd.concat([data1, data2], ignore_index=True)\n",
    "\n",
    "# Drop duplicates and handle missing values\n",
    "data.drop_duplicates(inplace=True)\n",
    "data.dropna(subset=['text'], inplace=True)\n",
    "\n",
    "# Text preprocessing function\n",
    "def clean_text(text):\n",
    "    text = text.lower()\n",
    "    text = \"\".join([char for char in text if char not in string.punctuation])\n",
    "    words = text.split()\n",
    "    words = [word for word in words if word not in stop_words]\n",
    "    return \" \".join(words)\n",
    "\n",
    "# Apply preprocessing\n",
    "data['text'] = data['text'].apply(clean_text)\n",
    "\n",
    "# Save preprocessed data\n",
    "data.to_csv('./data/processed/mood_data_cleaned.csv', index=False)\n",
    "print(\"Data preprocessing complete. Cleaned data saved.\")\n"
   ]
  }
 ],
 "metadata": {
  "kernelspec": {
   "display_name": "Python 3",
   "language": "python",
   "name": "python3"
  },
  "language_info": {
   "name": "python",
   "version": "3.13.1"
  }
 },
 "nbformat": 4,
 "nbformat_minor": 2
}
